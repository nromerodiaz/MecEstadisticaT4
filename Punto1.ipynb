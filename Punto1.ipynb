{
 "metadata": {
  "name": "",
  "signature": "sha256:6b2fa213ef9222dd6a2db7904ccc0e7e2dc9bb88bf7c07fc17b281f930cdf3f1"
 },
 "nbformat": 3,
 "nbformat_minor": 0,
 "worksheets": [
  {
   "cells": [
    {
     "cell_type": "heading",
     "level": 2,
     "metadata": {},
     "source": [
      "Nicol\u00e1s Romero D\u00edaz"
     ]
    },
    {
     "cell_type": "heading",
     "level": 3,
     "metadata": {},
     "source": [
      "201127499"
     ]
    },
    {
     "cell_type": "markdown",
     "metadata": {},
     "source": [
      "$\\textbf{1.} $ Simule un proceso donde un jugador apuesta a la ruleta que tiene 36 n\u00fameros rojos y negros y un 0 verde."
     ]
    },
    {
     "cell_type": "markdown",
     "metadata": {},
     "source": [
      "$\\textbf{a)}$ Sus fondos iniciales son 100, apuesta de a 1, y en cada ronda gana 36 con probabilidad 1/37, y pierde 1 con \n",
      "probabilidad 36/37. Despu\u00e9s de 100 rondas, cual es la distribuci\u00f3n emp\u00edrica de fondos n? Cu\u00e1l es su media? Cu\u00e1l es el \n",
      "tiempo promedio para que la mitad de los jugadores (si fueran muchos) llegaran a 0?"
     ]
    },
    {
     "cell_type": "code",
     "collapsed": false,
     "input": [
      "%pylab inline"
     ],
     "language": "python",
     "metadata": {},
     "outputs": [
      {
       "output_type": "stream",
       "stream": "stdout",
       "text": [
        "Populating the interactive namespace from numpy and matplotlib\n"
       ]
      },
      {
       "output_type": "stream",
       "stream": "stderr",
       "text": [
        "WARNING: pylab import has clobbered these variables: ['test']\n",
        "`%pylab --no-import-all` prevents importing * from pylab and numpy\n"
       ]
      }
     ],
     "prompt_number": 16
    },
    {
     "cell_type": "code",
     "collapsed": false,
     "input": [
      "# Definimos una funci\u00f3n que nos permite crear la cantidad de par\n",
      "# ticipanted del juego. Cada columna de la matriz creada repre -\n",
      "# senta a un participante, mientras que cada entrada de aquella\n",
      "# columna representa los fondos del participante en ese turno. \n",
      "# Tiene como par\u00e1metros el numero de participantes deseado y los\n",
      "# fondos con los cuales comienzan.\n",
      "\n",
      "def participantes( n_part, f_init ):\n",
      "    \n",
      "    # Creamos la matriz 1x(numero de participantes)\n",
      "    \n",
      "    part = numpy.zeros( (1, n_part) )\n",
      "    \n",
      "    # Fijamos los fondos iniciales\n",
      "    \n",
      "    part[0] = f_init\n",
      "    \n",
      "    return part"
     ],
     "language": "python",
     "metadata": {},
     "outputs": [],
     "prompt_number": 2
    },
    {
     "cell_type": "code",
     "collapsed": false,
     "input": [
      "test = participantes(10, 100)\n",
      "\n",
      "len(test), len(test[0]), test"
     ],
     "language": "python",
     "metadata": {},
     "outputs": [
      {
       "metadata": {},
       "output_type": "pyout",
       "prompt_number": 3,
       "text": [
        "(1, 10, array([[ 100.,  100.,  100.,  100.,  100.,  100.,  100.,  100.,  100.,\n",
        "          100.]]))"
       ]
      }
     ],
     "prompt_number": 3
    },
    {
     "cell_type": "code",
     "collapsed": false,
     "input": [
      "# Definimos la funci\u00f3n que nos permite avanzar una ronda, tiene\n",
      "# como par\u00e1metro la matriz de jugadores\n",
      "\n",
      "# Esta funciona sumando o restando la cantidad ganada a la matriz creada\n",
      "# por la funcion participantes con los fondos que llevaban mas \n",
      "# los que ganen o pierdan.\n",
      "\n",
      "def turno( jug ):\n",
      "    \n",
      "    # Vamos avanzando participante por participante\n",
      "    \n",
      "    n_turno = len(jug)\n",
      "    n_part = len(jug[0])\n",
      "    \n",
      "    for i in range(n_turno):\n",
      "        \n",
      "        # Generamos un n\u00famero que determina si el jugador gana o pierde\n",
      "        \n",
      "        for j in range(n_part):\n",
      "            \n",
      "            # El jugador que no tiene fondos no apuesta, por lo que el c\u00f3digo\n",
      "            # no debe aplicar para los que tengan fondos jug[i][j] == 0\n",
      "            \n",
      "            if jug[i][j] != 0 :\n",
      "            \n",
      "                rand = numpy.random.random()\n",
      "            \n",
      "                if rand <= 1./37.:\n",
      "                \n",
      "                    jug[i][j] += 36\n",
      "            \n",
      "                else:\n",
      "                \n",
      "                    jug[i][j] -= 1\n",
      "                \n",
      "    return jug"
     ],
     "language": "python",
     "metadata": {},
     "outputs": [],
     "prompt_number": 4
    },
    {
     "cell_type": "code",
     "collapsed": false,
     "input": [
      "print turno(test)"
     ],
     "language": "python",
     "metadata": {},
     "outputs": [
      {
       "output_type": "stream",
       "stream": "stdout",
       "text": [
        "[[ 99.  99.  99.  99.  99.  99.  99.  99.  99.  99.]]\n"
       ]
      }
     ],
     "prompt_number": 5
    },
    {
     "cell_type": "code",
     "collapsed": false,
     "input": [
      "# Definimos una funci\u00f3n que aplica un \u00fanico turno n_t veces.\n",
      "\n",
      "def avanze( n_t, jug ):\n",
      "    \n",
      "    for i in range( n_t ):\n",
      "        \n",
      "        turno( jug )\n",
      "        \n",
      "    return jug"
     ],
     "language": "python",
     "metadata": {},
     "outputs": [],
     "prompt_number": 6
    },
    {
     "cell_type": "code",
     "collapsed": false,
     "input": [
      "# Ahora, definimos una funci\u00f3n que nos permite aplicar la cantidad\n",
      "# de test deseados. Tiene como par\u00e1metros la cantidad de test\n",
      "# deseados\n",
      "\n",
      "# Esta funci\u00f3n tiene un contador que nos servir\u00e1 para analizar cu\u00e1nto \n",
      "# tardan en quebrar la mitad de los jugadores\n",
      "\n",
      "def avanze_2( n_t):\n",
      "    \n",
      "    \n",
      "    \n",
      "    # Lista que guarda cuantos turnos pasan para que la mitad de jugadores\n",
      "    # queden en ceros\n",
      "    \n",
      "    broke_num = []\n",
      "    \n",
      "    # Aplicamos el avanze individual para el n\u00famero de test n_t deseados\n",
      "    \n",
      "    for l in range(n_t):\n",
      "        \n",
      "        jug_n = participantes(1000, 100)\n",
      "        \n",
      "        cont = 0\n",
      "        \n",
      "        # Contamos cu\u00e1ntos jugadores han quebrado\n",
      "        \n",
      "        boolean = True\n",
      "        while boolean:\n",
      "\n",
      "            turno(jug_n)\n",
      "\n",
      "            cont += 1\n",
      "            \n",
      "            cont_jug_quebrados = 0\n",
      "\n",
      "            # Buscamos cu\u00e1ntos jugadores han perdido todo su dinero\n",
      "\n",
      "            for j in range( len(jug_n[0]) ):\n",
      "\n",
      "                # Revisamos los fondos actuales de los jugadores\n",
      "\n",
      "                f_actuales = jug_n[0][j]\n",
      "\n",
      "                # Si sus fondos actuales son cero, contamos al jugador como quebrado\n",
      "\n",
      "                if f_actuales == 0:\n",
      "\n",
      "                    cont_jug_quebrados +=1\n",
      "\n",
      "                    # Cuando se hayan quebrado la mitad o m\u00e1s de los jugadores, a\u00f1adimos la cantidad\n",
      "                    # de turnos que pasaron a la lista que tiene en cuenta en qu\u00e9 sesi\u00f3n de n_t turnos totales\n",
      "                    # se quebraron la mitad o m\u00e1s de ellos\n",
      "\n",
      "            if cont_jug_quebrados >= (len(jug_n[0])/2.):\n",
      "\n",
      "                broke_num.append(cont)\n",
      "\n",
      "                boolean = False\n",
      "\n",
      "    broke_num = numpy.array(broke_num)\n",
      "    \n",
      "    return numpy.mean(broke_num)\n",
      "        "
     ],
     "language": "python",
     "metadata": {},
     "outputs": [],
     "prompt_number": 7
    },
    {
     "cell_type": "code",
     "collapsed": false,
     "input": [
      "# Ahora, aplicamos el c\u00f3digo al ejemplo en cuesti\u00f3n\n",
      "\n",
      "n_turnos = 100\n",
      "\n",
      "f_iniciales = 100\n",
      "\n",
      "n_jugadores = 10000"
     ],
     "language": "python",
     "metadata": {},
     "outputs": [],
     "prompt_number": 8
    },
    {
     "cell_type": "code",
     "collapsed": false,
     "input": [
      "# Inicializamos el n\u00famero de participantes\n",
      "\n",
      "num_part = participantes(n_jugadores , f_iniciales)"
     ],
     "language": "python",
     "metadata": {},
     "outputs": [],
     "prompt_number": 9
    },
    {
     "cell_type": "code",
     "collapsed": false,
     "input": [
      "# Vemos c\u00f3mo avanzan despu\u00e9s de 100 turnos\n",
      "\n",
      "juego = avanze( n_turnos, num_part )"
     ],
     "language": "python",
     "metadata": {},
     "outputs": [],
     "prompt_number": 10
    },
    {
     "cell_type": "code",
     "collapsed": false,
     "input": [
      "# Imprimimos la media\n",
      "\n",
      "print mean(juego[0])"
     ],
     "language": "python",
     "metadata": {},
     "outputs": [
      {
       "output_type": "stream",
       "stream": "stdout",
       "text": [
        "97.0245\n"
       ]
      }
     ],
     "prompt_number": 27
    },
    {
     "cell_type": "code",
     "collapsed": false,
     "input": [
      "# Graficamos el histograma\n",
      "\n",
      "plt.hist(juego[0], bins = np.arange(0,350,1) , normed = True )\n",
      "plt.show()"
     ],
     "language": "python",
     "metadata": {},
     "outputs": [
      {
       "metadata": {},
       "output_type": "display_data",
       "png": "[encoded data removed]",
       "text": [
        "<matplotlib.figure.Figure at 0x3281d10>"
       ]
      }
     ],
     "prompt_number": 12
    },
    {
     "cell_type": "code",
     "collapsed": false,
     "input": [
      "# Ahora calculamos cu\u00e1nto tiempo en promedio tarda en quebrarse la mitad de los jugadores\n",
      "\n",
      "juego_2 = avanze_2( 50 )"
     ],
     "language": "python",
     "metadata": {},
     "outputs": [],
     "prompt_number": 13
    },
    {
     "cell_type": "code",
     "collapsed": false,
     "input": [
      "# Imprimimos la media\n",
      "\n",
      "print juego_2"
     ],
     "language": "python",
     "metadata": {},
     "outputs": [
      {
       "output_type": "stream",
       "stream": "stdout",
       "text": [
        "646.12\n"
       ]
      }
     ],
     "prompt_number": 15
    },
    {
     "cell_type": "markdown",
     "metadata": {},
     "source": [
      "Podemos ver que la media de las iteraciones es $99.3746$, y los turnos promedio en los cuales un jugador llega a quedarse sin fondos es de aproximadamente $646$ turnos"
     ]
    },
    {
     "cell_type": "markdown",
     "metadata": {},
     "source": [
      "$\\textbf{b)}$ Como cambia lo anterior si cada ronda apuesta a rojo o negro? La ganancia en este caso es 1 con probabilidad 18/37 y la perdida 1 con probabilidad 19/37. \n"
     ]
    },
    {
     "cell_type": "code",
     "collapsed": false,
     "input": [
      "# Redefinimos la funci\u00f3n turno con las nuevas probabilidades y las nuevas ganancias\n",
      "\n",
      "def nuevo_turno( jug ):\n",
      "    \n",
      "    # Vamos avanzando participante por participante\n",
      "    \n",
      "    n_turno = len(jug)\n",
      "    n_part = len(jug[0])\n",
      "    \n",
      "    for i in range(n_turno):\n",
      "        \n",
      "        # Generamos un n\u00famero que determina si el jugador gana o pierde\n",
      "        \n",
      "        for j in range(n_part):\n",
      "            \n",
      "            # El jugador que no tiene fondos no apuesta, por lo que el c\u00f3digo\n",
      "            # no debe aplicar para los que tengan fondos jug[i][j] == 0\n",
      "            \n",
      "            if jug[i][j] != 0 :\n",
      "            \n",
      "                rand = numpy.random.random()\n",
      "            \n",
      "                if rand <= 18./37.:\n",
      "                \n",
      "                    jug[i][j] += 1\n",
      "            \n",
      "                else:\n",
      "                \n",
      "                    jug[i][j] -= 1\n",
      "                \n",
      "    return jug"
     ],
     "language": "python",
     "metadata": {},
     "outputs": [],
     "prompt_number": 17
    },
    {
     "cell_type": "code",
     "collapsed": false,
     "input": [
      "# Definimos una nueva funci\u00f3n de avanze\n",
      "\n",
      "def nuevo_avanze( n_t, jug ):\n",
      "    \n",
      "    for i in range( n_t ):\n",
      "        \n",
      "        nuevo_turno( jug )\n",
      "        \n",
      "    return jug"
     ],
     "language": "python",
     "metadata": {},
     "outputs": [],
     "prompt_number": 20
    },
    {
     "cell_type": "code",
     "collapsed": false,
     "input": [
      "# Ahora definimos una nueva funci\u00f3n que nos permita obtener la cantidad de turnos\n",
      "# en la que los jugadores quiebran con las nuevas probabilidades y ganancias.\n",
      "\n",
      "def nuevo_avanze_2( n_t):\n",
      "    \n",
      "    # Lista que guarda cuantos turnos pasan para que la mitad de jugadores\n",
      "    # queden en ceros\n",
      "    \n",
      "    broke_num = []\n",
      "    \n",
      "    # Aplicamos el avanze individual para el n\u00famero de test n_t deseados\n",
      "    \n",
      "    for l in range(n_t):\n",
      "        \n",
      "        jug_n = participantes(1000, 100)\n",
      "        \n",
      "        cont = 0\n",
      "        \n",
      "        # Contamos cu\u00e1ntos jugadores han quebrado\n",
      "        \n",
      "        boolean = True\n",
      "        while boolean:\n",
      "\n",
      "            nuevo_turno(jug_n)\n",
      "\n",
      "            cont += 1\n",
      "            \n",
      "            cont_jug_quebrados = 0\n",
      "\n",
      "            # Buscamos cu\u00e1ntos jugadores han perdido todo su dinero\n",
      "\n",
      "            for j in range( len(jug_n[0]) ):\n",
      "\n",
      "                # Revisamos los fondos actuales de los jugadores\n",
      "\n",
      "                f_actuales = jug_n[0][j]\n",
      "\n",
      "                # Si sus fondos actuales son cero, contamos al jugador como quebrado\n",
      "\n",
      "                if f_actuales == 0:\n",
      "\n",
      "                    cont_jug_quebrados +=1\n",
      "\n",
      "                    # Cuando se hayan quebrado la mitad o m\u00e1s de los jugadores, a\u00f1adimos la cantidad\n",
      "                    # de turnos que pasaron a la lista que tiene en cuenta en qu\u00e9 sesi\u00f3n de n_t turnos totales\n",
      "                    # se quebraron la mitad o m\u00e1s de ellos\n",
      "\n",
      "            if cont_jug_quebrados >= (len(jug_n[0])/2.):\n",
      "\n",
      "                broke_num.append(cont)\n",
      "\n",
      "                boolean = False\n",
      "\n",
      "    broke_num = numpy.array(broke_num)\n",
      "    \n",
      "    return numpy.mean(broke_num)\n",
      "        "
     ],
     "language": "python",
     "metadata": {},
     "outputs": [],
     "prompt_number": 24
    },
    {
     "cell_type": "code",
     "collapsed": false,
     "input": [
      "nn_turnos = 100\n",
      "\n",
      "nnum_part = participantes( 10000 , 100 )"
     ],
     "language": "python",
     "metadata": {},
     "outputs": [],
     "prompt_number": 34
    },
    {
     "cell_type": "code",
     "collapsed": false,
     "input": [
      "# Aplicamos nuevamente el m\u00e9todo de avanze\n",
      "\n",
      "nuevo_juego = nuevo_avanze( nn_turnos , nnum_part )"
     ],
     "language": "python",
     "metadata": {},
     "outputs": [],
     "prompt_number": 35
    },
    {
     "cell_type": "code",
     "collapsed": false,
     "input": [
      "# Imprimimos la media\n",
      "\n",
      "print numpy.mean(nuevo_juego)"
     ],
     "language": "python",
     "metadata": {},
     "outputs": [
      {
       "output_type": "stream",
       "stream": "stdout",
       "text": [
        "97.1852\n"
       ]
      }
     ],
     "prompt_number": 36
    },
    {
     "cell_type": "code",
     "collapsed": true,
     "input": [
      "# Graficamos el histograma\n",
      "\n",
      "plt.hist(nuevo_juego[0], bins = np.arange(45,145,1) , normed = True )\n",
      "plt.show()"
     ],
     "language": "python",
     "metadata": {},
     "outputs": [
      {
       "metadata": {},
       "output_type": "display_data",
       "png": "[encoded data removed]",
       "text": [
        "<matplotlib.figure.Figure at 0x38e4e90>"
       ]
      }
     ],
     "prompt_number": 40
    },
    {
     "cell_type": "code",
     "collapsed": false,
     "input": [
      "# Ahora calculamos el promedio de turnos en los cuales se quiebran los participantes\n",
      "\n",
      "nuevo_juego_2 = nuevo_avanze_2( 30 )"
     ],
     "language": "python",
     "metadata": {},
     "outputs": [],
     "prompt_number": 43
    },
    {
     "cell_type": "code",
     "collapsed": false,
     "input": [
      "print nuevo_juego_2"
     ],
     "language": "python",
     "metadata": {},
     "outputs": [
      {
       "output_type": "stream",
       "stream": "stdout",
       "text": [
        "3116.93333333\n"
       ]
      }
     ],
     "prompt_number": 44
    },
    {
     "cell_type": "markdown",
     "metadata": {},
     "source": [
      "Como se puede ver del histograma, en tan solo cien pasos, podemos decir con seguridad que ning\u00fan jugador piedre la totalidad de su dinero. Al ver en cu\u00e1nto tiempo se tardan en quebrar los jugadores, vemos que se tardan aproximadamente 3117 pasos."
     ]
    },
    {
     "cell_type": "markdown",
     "metadata": {},
     "source": [
      "$\\textbf{c)}$ Como cambia el caso anterior si ahora apuesta con la siguiente estrategia: apuesta 1, y si gana, apuesta de nuevo 1, si pierde, va doblando la apuesta hasta que gane y despu\u00e9s de ganar apuesta de nuevo 1. "
     ]
    },
    {
     "cell_type": "code",
     "collapsed": false,
     "input": [
      "# Debemos cambiar la funci\u00f3n turno\n",
      "\n",
      "def ultimo_turno( jug , bet ):\n",
      "    \n",
      "    # Vamos avanzando participante por participante\n",
      "    \n",
      "    n_turno = len(jug)\n",
      "    n_part = len(jug[0])\n",
      "    \n",
      "    for i in range(n_turno):\n",
      "        \n",
      "        # Generamos un n\u00famero que determina si el jugador gana o pierde\n",
      "        \n",
      "        for j in range(n_part):\n",
      "            \n",
      "            # El jugador que no tiene fondos no apuesta, por lo que el c\u00f3digo\n",
      "            # no debe aplicar para los que tengan fondos jug[i][j] == 0\n",
      "            \n",
      "            if jug[i][j] != 0 :\n",
      "            \n",
      "                rand = numpy.random.random()\n",
      "            \n",
      "                if rand <= 18./37.:\n",
      "                \n",
      "                    jug[i][j] += 1\n",
      "            \n",
      "                else:\n",
      "                \n",
      "                    jug[i][j] -= bet\n",
      "                \n",
      "    return jug"
     ],
     "language": "python",
     "metadata": {},
     "outputs": [],
     "prompt_number": 45
    },
    {
     "cell_type": "code",
     "collapsed": false,
     "input": [
      "# Podemos dejar la funci\u00f3n de inicializaci\u00f3n tal como est\u00e1, debemos cambiar la funci\u00f3n de avanze.\n",
      "\n",
      "def ultimo_avanze( n_t ):\n",
      "    \n",
      "    # Lista que guarda cuantos turnos pasan para que la mitad de jugadores\n",
      "    # queden en ceros\n",
      "    \n",
      "    broke_num = []\n",
      "    \n",
      "    # Aplicamos el avanze individual para el n\u00famero de test n_t deseados\n",
      "    \n",
      "    for l in range(n_t):\n",
      "        \n",
      "        jug_n = participantes(1000, 100)\n",
      "        \n",
      "        cont = 0\n",
      "        \n",
      "        bet = 1\n",
      "        \n",
      "        # Contamos cu\u00e1ntos jugadores han quebrado\n",
      "        \n",
      "        boolean = True\n",
      "        while boolean:\n",
      "\n",
      "            ultimo_turno(jug_n, bet)\n",
      "\n",
      "            cont += 1\n",
      "            \n",
      "            cont_jug_quebrados = 0\n",
      "\n",
      "            # Buscamos cu\u00e1ntos jugadores han perdido todo su dinero\n",
      "\n",
      "            for j in range( len(jug_n[0]) ):\n",
      "\n",
      "                # Revisamos los fondos actuales de los jugadores\n",
      "\n",
      "                f_actuales = jug_n[0][j]\n",
      "                \n",
      "                if f_actuales <= 2*bet:\n",
      "\n",
      "                    # Si sus fondos actuales son cero, contamos al jugador como quebrado\n",
      "\n",
      "                    if f_actuales == 0:\n",
      "\n",
      "                        cont_jug_quebrados +=1\n",
      "\n",
      "                        # Cuando se hayan quebrado la mitad o m\u00e1s de los jugadores, a\u00f1adimos la cantidad\n",
      "                        # de turnos que pasaron a la lista que tiene en cuenta en qu\u00e9 sesi\u00f3n de n_t turnos totales\n",
      "                        # se quebraron la mitad o m\u00e1s de ellos\n",
      "                        \n",
      "                    bet = f_actuales\n",
      "                    ultimo_turno( jug_n, bet )\n",
      "\n",
      "            if (cont_jug_quebrados >= len(jug_n[0])/2.):\n",
      "\n",
      "                broke_num.append(cont)\n",
      "\n",
      "                boolean = False\n",
      "\n",
      "    broke_num = numpy.array(broke_num)\n",
      "    \n",
      "    return numpy.mean(broke_num), jug_n\n",
      "        "
     ],
     "language": "python",
     "metadata": {},
     "outputs": [],
     "prompt_number": 46
    },
    {
     "cell_type": "code",
     "collapsed": false,
     "input": [
      "last_test = ultimo_avanze(2)"
     ],
     "language": "python",
     "metadata": {},
     "outputs": [
      {
       "ename": "KeyboardInterrupt",
       "evalue": "",
       "output_type": "pyerr",
       "traceback": [
        "\u001b[1;31m---------------------------------------------------------------------------\u001b[0m\n\u001b[1;31mKeyboardInterrupt\u001b[0m                         Traceback (most recent call last)",
        "\u001b[1;32m<ipython-input-47-dd4e283dbf65>\u001b[0m in \u001b[0;36m<module>\u001b[1;34m()\u001b[0m\n\u001b[1;32m----> 1\u001b[1;33m \u001b[0mlast_test\u001b[0m \u001b[1;33m=\u001b[0m \u001b[0multimo_avanze\u001b[0m\u001b[1;33m(\u001b[0m\u001b[1;36m2\u001b[0m\u001b[1;33m)\u001b[0m\u001b[1;33m\u001b[0m\u001b[0m\n\u001b[0m",
        "\u001b[1;32m<ipython-input-46-b4546d21ec19>\u001b[0m in \u001b[0;36multimo_avanze\u001b[1;34m(n_t)\u001b[0m\n\u001b[0;32m     37\u001b[0m                 \u001b[0mf_actuales\u001b[0m \u001b[1;33m=\u001b[0m \u001b[0mjug_n\u001b[0m\u001b[1;33m[\u001b[0m\u001b[1;36m0\u001b[0m\u001b[1;33m]\u001b[0m\u001b[1;33m[\u001b[0m\u001b[0mj\u001b[0m\u001b[1;33m]\u001b[0m\u001b[1;33m\u001b[0m\u001b[0m\n\u001b[0;32m     38\u001b[0m \u001b[1;33m\u001b[0m\u001b[0m\n\u001b[1;32m---> 39\u001b[1;33m                 \u001b[1;32mif\u001b[0m \u001b[0mf_actuales\u001b[0m \u001b[1;33m<=\u001b[0m \u001b[1;36m2\u001b[0m\u001b[1;33m*\u001b[0m\u001b[0mbet\u001b[0m\u001b[1;33m:\u001b[0m\u001b[1;33m\u001b[0m\u001b[0m\n\u001b[0m\u001b[0;32m     40\u001b[0m \u001b[1;33m\u001b[0m\u001b[0m\n\u001b[0;32m     41\u001b[0m                     \u001b[1;31m# Si sus fondos actuales son cero, contamos al jugador como quebrado\u001b[0m\u001b[1;33m\u001b[0m\u001b[1;33m\u001b[0m\u001b[0m\n",
        "\u001b[1;31mKeyboardInterrupt\u001b[0m: "
       ]
      }
     ],
     "prompt_number": 47
    },
    {
     "cell_type": "code",
     "collapsed": false,
     "input": [],
     "language": "python",
     "metadata": {},
     "outputs": []
    }
   ],
   "metadata": {}
  }
 ]
}